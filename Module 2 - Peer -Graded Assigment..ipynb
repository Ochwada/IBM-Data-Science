{
 "cells": [
  {
   "cell_type": "markdown",
   "metadata": {},
   "source": [
    "<center>\n",
    "    <img src=\"https://cf-courses-data.s3.us.cloud-object-storage.appdomain.cloud/IBMDeveloperSkillsNetwork-DS0105EN-SkillsNetwork/labs/Module2/images/SN_web_lightmode.png\" width=\"300\" alt=\"cognitiveclass.ai logo\">\n",
    "</center>\n"
   ]
  },
  {
   "cell_type": "markdown",
   "metadata": {},
   "source": [
    "# Peer-graded Assignment : Tools for Data Science  (Ex 2)"
   ]
  },
  {
   "cell_type": "markdown",
   "metadata": {
    "tags": []
   },
   "source": [
    "### Introduction (Ex 3)\n",
    "\n",
    "Leveraging Jupyterlite Notebook for peer-graded Assignment on Tools for Data Science. This notebook highlights what the module was all about."
   ]
  },
  {
   "cell_type": "markdown",
   "metadata": {
    "jp-MarkdownHeadingCollapsed": true,
    "tags": []
   },
   "source": [
    "### List of data Science languages (Ex 4)\n",
    "- Python \n",
    "- R\n",
    "- SQL\n",
    "- Scala\n",
    "- JavaScript\n",
    "- Julia\n",
    "- Others: Java, C++, PhP Go, Ruby, Visual Basic\n"
   ]
  },
  {
   "cell_type": "markdown",
   "metadata": {},
   "source": [
    "### List of Data Science Libraries (Ex 5)\n",
    "\n",
    "- Python: Matplotlib, Seaborn,  Scikit-learn, Keras, TensorFlow, PyTorch, NumPy,NLTK: The Natural Language Toolkit\n",
    "- R: dplyr, stringr, ggplot,caret,Plotly,Lattice,Leaflet\n",
    "- Scala : Vegas\n"
   ]
  },
  {
   "cell_type": "markdown",
   "metadata": {},
   "source": [
    "### Table of Data Science tools (Ex 6)\n",
    "|**Categories**| **Tools**   |\n",
    "|--------------|-----------------------------------------------------------------------------|\n",
    "|Data Management | Oracle, mySQL, PostGreSQL, NoSQL (mongoDB, Apache CouchDB, Apache cassandra ), file based (Hadoop Hdfs, Ceph), elasticsearch (document) |\n",
    "|Data Integration and Transformation | Informatica, Apache Airflow, Kubeflow, apache kafka, apache nifi, sparkSQL, node-red |\n",
    "|Data  Visualization | PixieDust,Hue,kibana, Apache superset   |\n",
    "|Model Building | SPSS, SAS, Watson Studio   |\n",
    "|Model Deployment | mleap, Kubernetes, Redhat, OpenShift, Mleap, Tensorflow service, Tensorflow lite, Tensorflow dot JS   |\n",
    "|Model Monitoring and Assessment | ModelDB, Prometheus, IBM AI Fairness 360 Open Source Toolkit, IBM Adversarial Robustness 360 Toolbox, AI Explainiability 360   |\n",
    "|Code Asset Management (DAM) | git, github, gitlab, bitbucket |\n",
    "|Data Asset Management (DAM) | Apache Atlas, ODPi Egeria, kylo |\n",
    "|Development Environments |Jupter, Jupyterlab, Apache Zepplin, Rstudio, Spyder, Apache Spark, Apache Flink, Ray (RISELAB) |\n",
    "\n"
   ]
  },
  {
   "cell_type": "markdown",
   "metadata": {},
   "source": [
    "### Arithmetic expression example ( Ex 7)\n",
    " \n",
    " y = 35*5 + 5\n",
    " \n",
    " print(y)\n"
   ]
  },
  {
   "cell_type": "code",
   "execution_count": 2,
   "metadata": {
    "tags": []
   },
   "outputs": [],
   "source": [
    "# multiply and add (Ex 8)\n",
    "x = 357\n",
    "\n",
    "y = 4000\n",
    "\n",
    "multiply = x * y\n",
    "\n",
    "add = x + y"
   ]
  },
  {
   "cell_type": "code",
   "execution_count": 4,
   "metadata": {
    "tags": []
   },
   "outputs": [
    {
     "name": "stdout",
     "output_type": "stream",
     "text": [
      "2.5\n"
     ]
    }
   ],
   "source": [
    "# Convert minutes to hours(Ex 9)\n",
    "minutes = 150\n",
    "hours = minutes / 60\n",
    "\n",
    "print(hours)\n"
   ]
  },
  {
   "cell_type": "markdown",
   "metadata": {},
   "source": [
    "### List of objectives (Ex 10)\n",
    "- Create a Jupyter Notebook\n",
    "\n",
    "- Insert code and markdown cells\n",
    "\n",
    "- Share your notebook through GitHub"
   ]
  },
  {
   "cell_type": "markdown",
   "metadata": {},
   "source": [
    "#### Author : Ochwada.L"
   ]
  },
  {
   "cell_type": "code",
   "execution_count": null,
   "metadata": {},
   "outputs": [],
   "source": []
  }
 ],
 "metadata": {
  "kernelspec": {
   "display_name": "Python",
   "language": "python",
   "name": "conda-env-python-py"
  },
  "language_info": {
   "codemirror_mode": {
    "name": "ipython",
    "version": 3
   },
   "file_extension": ".py",
   "mimetype": "text/x-python",
   "name": "python",
   "nbconvert_exporter": "python",
   "pygments_lexer": "ipython3",
   "version": "3.7.12"
  },
  "toc-autonumbering": false,
  "toc-showtags": false
 },
 "nbformat": 4,
 "nbformat_minor": 4
}
